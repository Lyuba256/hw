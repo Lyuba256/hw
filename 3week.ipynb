{
 "cells": [
  {
   "cell_type": "code",
   "execution_count": 6,
   "metadata": {},
   "outputs": [
    {
     "name": "stdout",
     "output_type": "stream",
     "text": [
      "89\n"
     ]
    }
   ],
   "source": [
    "#упр1\n",
    "i = int(input())\n",
    "def fib(n , c={0:0,1:1}):\n",
    "    if n in c:\n",
    "          return c[n]\n",
    "    c[n]= fib(n-1)+fib(n-2)\n",
    "    return c[n]\n",
    "print(fib(i))"
   ]
  },
  {
   "cell_type": "code",
   "execution_count": 8,
   "metadata": {},
   "outputs": [
    {
     "name": "stdout",
     "output_type": "stream",
     "text": [
      "2\n",
      "19\n",
      "31\n"
     ]
    }
   ],
   "source": [
    "#упр2\n",
    "n = int(input())\n",
    "for i in range(2, n):\n",
    "    if n % i == 0:\n",
    "        print(i)\n",
    "        n = n/i\n",
    "else: n = n \n",
    "\n",
    "        \n",
    "            "
   ]
  },
  {
   "cell_type": "code",
   "execution_count": 32,
   "metadata": {},
   "outputs": [
    {
     "name": "stdout",
     "output_type": "stream",
     "text": [
      "Hello World\n"
     ]
    }
   ],
   "source": [
    "#упр3"
   ]
  },
  {
   "cell_type": "code",
   "execution_count": 6,
   "metadata": {},
   "outputs": [
    {
     "name": "stdout",
     "output_type": "stream",
     "text": [
      "e\n",
      "ee\n",
      "eee\n",
      "eeee\n",
      "eeeee\n",
      "eeeeee\n",
      "eeeeeee\n",
      "eeeeeeee\n",
      "eeeeeeeee\n",
      "eeeeeeeeee\n",
      "eeeeeeeeee\n",
      "eeeeeeeee\n",
      "eeeeeeee\n",
      "eeeeeee\n",
      "eeeeee\n",
      "eeeee\n",
      "eeee\n",
      "eee\n",
      "ee\n",
      "e\n"
     ]
    }
   ],
   "source": [
    "#упр4\n",
    "A = list(input().split())\n",
    "size = int(A[0])\n",
    "symb = str(A[1])\n",
    "def triangle(size, symb):\n",
    "    for i in range(1, size + 1):\n",
    "        print(symb * min(i, size - i + 1))\n",
    "triangle(size, symb)"
   ]
  },
  {
   "cell_type": "code",
   "execution_count": 9,
   "metadata": {},
   "outputs": [
    {
     "name": "stdout",
     "output_type": "stream",
     "text": [
      "[[ 1.  2.  3.  4.  5.]\n",
      " [14. 15. 16. 17.  6.]\n",
      " [13. 20. 19. 18.  7.]\n",
      " [12. 11. 10.  9.  8.]]\n"
     ]
    }
   ],
   "source": [
    "#упр5\n",
    "import numpy as np\n",
    "n = int(input())\n",
    "m = int(input())\n",
    "def spiral(n,m):\n",
    "    A = np.zeros((n,m))\n",
    "    a , i , j = 1 , 0 , 0\n",
    "    while (a < m*n):\n",
    "            while (j+1 < m and A[i][j+1]==0 ):\n",
    "                A[i][j] = a\n",
    "                a += 1\n",
    "                j += 1\n",
    "            while(i+1 < n and A[i+1][j]==0 ):   \n",
    "                A[i][j] = a\n",
    "                a += 1\n",
    "                i += 1 \n",
    "            while (j > 0 and A[i][j-1]==0 ):\n",
    "                A[i][j] = a\n",
    "                a += 1\n",
    "                j -= 1\n",
    "            while(i > 0 and A[i-1][j]==0 ):   \n",
    "                A[i][j] = a\n",
    "                a += 1\n",
    "                i -= 1 \n",
    "    A[i][j] = a\n",
    "    return A\n",
    "print(spiral(n,m))"
   ]
  },
  {
   "cell_type": "code",
   "execution_count": 12,
   "metadata": {},
   "outputs": [
    {
     "ename": "UFuncTypeError",
     "evalue": "ufunc 'multiply' did not contain a loop with signature matching types (dtype('<U1'), dtype('<U1')) -> None",
     "output_type": "error",
     "traceback": [
      "\u001b[1;31m---------------------------------------------------------------------------\u001b[0m",
      "\u001b[1;31mUFuncTypeError\u001b[0m                            Traceback (most recent call last)",
      "Cell \u001b[1;32mIn[12], line 12\u001b[0m\n\u001b[0;32m     10\u001b[0m     b \u001b[38;5;241m=\u001b[39m y\u001b[38;5;241m.\u001b[39mmean() \u001b[38;5;241m-\u001b[39m a\u001b[38;5;241m*\u001b[39mx\u001b[38;5;241m.\u001b[39mmean()\n\u001b[0;32m     11\u001b[0m     \u001b[38;5;28;01mreturn\u001b[39;00m a,b\n\u001b[1;32m---> 12\u001b[0m \u001b[38;5;28mprint\u001b[39m(\u001b[43mmnk\u001b[49m\u001b[43m(\u001b[49m\u001b[43mx\u001b[49m\u001b[43m,\u001b[49m\u001b[43my\u001b[49m\u001b[43m)\u001b[49m)\n",
      "Cell \u001b[1;32mIn[12], line 9\u001b[0m, in \u001b[0;36mmnk\u001b[1;34m(x, y)\u001b[0m\n\u001b[0;32m      7\u001b[0m x \u001b[38;5;241m=\u001b[39m np\u001b[38;5;241m.\u001b[39marray(x)\n\u001b[0;32m      8\u001b[0m y \u001b[38;5;241m=\u001b[39m np\u001b[38;5;241m.\u001b[39marray(y)\n\u001b[1;32m----> 9\u001b[0m a \u001b[38;5;241m=\u001b[39m ((\u001b[43mx\u001b[49m\u001b[38;5;241;43m*\u001b[39;49m\u001b[43my\u001b[49m)\u001b[38;5;241m.\u001b[39mmean() \u001b[38;5;241m-\u001b[39m x\u001b[38;5;241m.\u001b[39mmean()\u001b[38;5;241m*\u001b[39my\u001b[38;5;241m.\u001b[39mmean()) \u001b[38;5;241m/\u001b[39m x\u001b[38;5;241m.\u001b[39mmean()\u001b[38;5;241m*\u001b[39m\u001b[38;5;241m*\u001b[39m\u001b[38;5;241m2\u001b[39m\n\u001b[0;32m     10\u001b[0m b \u001b[38;5;241m=\u001b[39m y\u001b[38;5;241m.\u001b[39mmean() \u001b[38;5;241m-\u001b[39m a\u001b[38;5;241m*\u001b[39mx\u001b[38;5;241m.\u001b[39mmean()\n\u001b[0;32m     11\u001b[0m \u001b[38;5;28;01mreturn\u001b[39;00m a,b\n",
      "\u001b[1;31mUFuncTypeError\u001b[0m: ufunc 'multiply' did not contain a loop with signature matching types (dtype('<U1'), dtype('<U1')) -> None"
     ]
    }
   ],
   "source": [
    "#упр6\n",
    "\n",
    "import numpy as np\n",
    "x = list(input().split())\n",
    "y = list(input().split())\n",
    "def mnk(x,y):\n",
    "    x = np.array(x)\n",
    "    y = np.array(y)\n",
    "    a = ((x*y).mean() - x.mean()*y.mean()) / x.mean()**2\n",
    "    b = y.mean() - a*x.mean()\n",
    "    return a,b\n",
    "print(mnk(x,y))\n"
   ]
  }
 ],
 "metadata": {
  "kernelspec": {
   "display_name": "Python 3",
   "language": "python",
   "name": "python3"
  },
  "language_info": {
   "codemirror_mode": {
    "name": "ipython",
    "version": 3
   },
   "file_extension": ".py",
   "mimetype": "text/x-python",
   "name": "python",
   "nbconvert_exporter": "python",
   "pygments_lexer": "ipython3",
   "version": "3.11.9"
  }
 },
 "nbformat": 4,
 "nbformat_minor": 2
}
