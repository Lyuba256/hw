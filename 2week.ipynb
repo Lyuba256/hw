{
 "cells": [
  {
   "cell_type": "code",
   "execution_count": 9,
   "metadata": {},
   "outputs": [
    {
     "name": "stdout",
     "output_type": "stream",
     "text": [
      "3.0\n"
     ]
    }
   ],
   "source": [
    "#упр1\n",
    "A = list(map(int, input().split()))\n",
    "n = A[0]\n",
    "A.pop(0)\n",
    "S = ((n+1)*n)/2\n",
    "h = S - sum(A)\n",
    "print(h)"
   ]
  },
  {
   "cell_type": "code",
   "execution_count": 12,
   "metadata": {},
   "outputs": [
    {
     "name": "stdout",
     "output_type": "stream",
     "text": [
      "['T', '0', 'B', 'A', '0', 'L', 'E', 'A', 'N', 'A', 'N', 'A', 'E', '0', 'B', 'A', 'E', 'V', 'O', '0', 'S', 'A', 'N', 'A', 'N']\n"
     ]
    }
   ],
   "source": [
    "#упр2\n",
    "A = list(input())\n",
    "g = int(A[0])\n",
    "A.pop(0)\n",
    "n = int(len(A)/g)\n",
    "B = list()\n",
    "for i in range(0, n):\n",
    "    B = A[((i+1)*n):(i*n):-1]\n",
    "    A[(i*n):((i+1)*n)] = B\n",
    "print(A)\n",
    "\n",
    "\n",
    "  \n",
    " \n"
   ]
  },
  {
   "cell_type": "code",
   "execution_count": null,
   "metadata": {},
   "outputs": [],
   "source": [
    "#упр3\n"
   ]
  },
  {
   "cell_type": "code",
   "execution_count": 45,
   "metadata": {},
   "outputs": [
    {
     "name": "stdout",
     "output_type": "stream",
     "text": [
      "[2, 1, 4, 3, 6, 5]\n"
     ]
    }
   ],
   "source": [
    "#упр4\n",
    "A = list(map(int, input().split()))\n",
    "b = []\n",
    "for i in range(0, len(A), 2):\n",
    "    b.extend(A[i:i+2][::-1])\n",
    "print(b)"
   ]
  },
  {
   "cell_type": "code",
   "execution_count": 56,
   "metadata": {},
   "outputs": [
    {
     "name": "stdout",
     "output_type": "stream",
     "text": [
      "5 2 3 4\n"
     ]
    }
   ],
   "source": [
    "#упр5\n",
    "A = list(input().split())\n",
    "l=A[0:(len(A)-1)]\n",
    "print(A[len(A)-1], ' '.join(l))"
   ]
  },
  {
   "cell_type": "code",
   "execution_count": 72,
   "metadata": {},
   "outputs": [
    {
     "name": "stdout",
     "output_type": "stream",
     "text": [
      "4\n"
     ]
    }
   ],
   "source": [
    "#упр6\n",
    "A=[int(i) for i in input().split()]\n",
    "for i in range(len(A)):\n",
    "    if A.count(A[i])==1: \n",
    "        print(A[i])"
   ]
  },
  {
   "cell_type": "code",
   "execution_count": 82,
   "metadata": {},
   "outputs": [
    {
     "name": "stdout",
     "output_type": "stream",
     "text": [
      "0\n"
     ]
    }
   ],
   "source": [
    "#упр8\n",
    "b=int(input())            \n",
    "A=list(map(int,input().split()))\n",
    "for i in range (len(A)):\n",
    "    c=0\n",
    "    for x in a:\n",
    "        if x<i:\n",
    "            c+=1\n",
    "    if c==len(A)//2:\n",
    "        print(i)\n",
    "        break"
   ]
  },
  {
   "cell_type": "code",
   "execution_count": 12,
   "metadata": {},
   "outputs": [],
   "source": [
    "#упр9\n",
    "f = open('input.txt')   \n",
    "A=list(f.split())\n",
    "for i in range(len(A)):\n",
    "    b=str(A[i])\n",
    "    c=b[-1]\n",
    "    s = 0\n",
    "    if c == '!' or c == '?' or c == '.':\n",
    "        s += 1\n",
    "with open (\"output.txt\",\"w\") as file:\n",
    "    file.write(str(s)) "
   ]
  }
 ],
 "metadata": {
  "kernelspec": {
   "display_name": "Python 3",
   "language": "python",
   "name": "python3"
  },
  "language_info": {
   "codemirror_mode": {
    "name": "ipython",
    "version": 3
   },
   "file_extension": ".py",
   "mimetype": "text/x-python",
   "name": "python",
   "nbconvert_exporter": "python",
   "pygments_lexer": "ipython3",
   "version": "3.11.9"
  }
 },
 "nbformat": 4,
 "nbformat_minor": 2
}
