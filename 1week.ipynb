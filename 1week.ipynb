{
 "cells": [
  {
   "cell_type": "code",
   "execution_count": 1,
   "metadata": {},
   "outputs": [
    {
     "name": "stdout",
     "output_type": "stream",
     "text": [
      "3\n",
      "-1\n",
      "2\n"
     ]
    }
   ],
   "source": [
    "#упр1\n",
    "a=int(input())\n",
    "b=int(input())\n",
    "print (a+b, a-b, a*b, sep = '\\n')"
   ]
  },
  {
   "cell_type": "code",
   "execution_count": 2,
   "metadata": {},
   "outputs": [
    {
     "name": "stdout",
     "output_type": "stream",
     "text": [
      "6\n"
     ]
    }
   ],
   "source": [
    "#упр2\n",
    "a = int(input())\n",
    "print(a % 10)"
   ]
  },
  {
   "cell_type": "code",
   "execution_count": 5,
   "metadata": {},
   "outputs": [
    {
     "name": "stdout",
     "output_type": "stream",
     "text": [
      "23.999999999999996\n"
     ]
    }
   ],
   "source": [
    "#упр3\n",
    "import numpy as np\n",
    "A = list(map(int, input().split()))\n",
    "a = np.prod(np.array([A]))\n",
    "b =  len(A)\n",
    "print(a**(1/b))"
   ]
  },
  {
   "cell_type": "code",
   "execution_count": null,
   "metadata": {},
   "outputs": [],
   "source": [
    "#упр4\n",
    "f = open('input.txt')\n",
    "a = f.readline()\n",
    "b = f.readline()\n",
    "h = a.split()\n",
    "if b == \"+\":\n",
    "    res = 0\n",
    "    for i in range (0, len(h)):\n",
    "        res = res + int(h[i])\n",
    "elif b == \"-\":\n",
    "    res = 0\n",
    "    for i in range (0, len(h)):\n",
    "        res = res - int(h[i])\n",
    "else:\n",
    "    res = 1\n",
    "    for i in range (0, len(h)):\n",
    "        res = res*int(h[i])\n",
    "with open (\"output.txt\",\"w\") as file:\n",
    "    file.write(str(res)) "
   ]
  },
  {
   "cell_type": "code",
   "execution_count": null,
   "metadata": {},
   "outputs": [],
   "source": [
    "#упр5\n",
    "N = int(input())\n",
    "b = int(input())\n",
    "c = int(input())\n",
    "k = int(str(N),b)\n",
    "s=''\n",
    "while k>0:\n",
    "    s=str(k%c)+s\n",
    "    k=k//c\n",
    "print(s)"
   ]
  },
  {
   "cell_type": "code",
   "execution_count": null,
   "metadata": {},
   "outputs": [],
   "source": [
    "#упр6\n",
    "f = open('input.txt')\n",
    "a = f.readline()\n",
    "b = f.readline().strip()\n",
    "c = int(f.readline())\n",
    "h = a.split()\n",
    "if b == \"+\":\n",
    "    res = 0\n",
    "    for i in range (len(h)):\n",
    "        p = list[int(list(h[i]), c)]\n",
    "        res = res + int(p[i])\n",
    "elif b == \"-\":\n",
    "    res = 0\n",
    "    for i in range (len(h)):\n",
    "        p = list[int(list(h[i]), c)]\n",
    "        res = res - int(p[i])\n",
    "else:\n",
    "    res = 1\n",
    "    for i in range (len(h)):\n",
    "        p = list[int(list(h[i]), c)]\n",
    "        res = res*int(p[i])\n",
    "s=''\n",
    "while res>0:\n",
    "    s=str(res%c)+s\n",
    "    res=res//c\n",
    "with open (\"output.txt\",\"w\") as file:\n",
    "    file.write(str(s))"
   ]
  }
 ],
 "metadata": {
  "kernelspec": {
   "display_name": "Python 3",
   "language": "python",
   "name": "python3"
  },
  "language_info": {
   "codemirror_mode": {
    "name": "ipython",
    "version": 3
   },
   "file_extension": ".py",
   "mimetype": "text/x-python",
   "name": "python",
   "nbconvert_exporter": "python",
   "pygments_lexer": "ipython3",
   "version": "3.11.9"
  }
 },
 "nbformat": 4,
 "nbformat_minor": 2
}
